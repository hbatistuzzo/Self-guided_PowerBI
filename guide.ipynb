{
 "cells": [
  {
   "cell_type": "markdown",
   "metadata": {},
   "source": [
    "4 kinds of Data Analysis:\n",
    "\n",
    "\t- Descriptive: what happened\n",
    "\t- Diagnostic: why did it happen\n",
    "\t- Predictive: what will happen\n",
    "\t- Prescriptive analysis: what must be done\n",
    "\n",
    "\tPowerBI targets Diagnostic and Prescriptive analysis primarily\n",
    "\n",
    "\tAfter you feed some data, your choose of data viz is similar to Tableau. It automatically formats the data to the best of its ability\n",
    "\t- Drill up and down to change data clustered in different hierarchys (modificar a granularidade)\n",
    "\t- Always check the encoding and the regional settings, as they may interfere in accents or comma/dot standards\n",
    "\n",
    "\t"
   ]
  },
  {
   "cell_type": "code",
   "execution_count": null,
   "metadata": {},
   "outputs": [],
   "source": []
  }
 ],
 "metadata": {
  "kernelspec": {
   "display_name": "Python 3.9.13 ('base')",
   "language": "python",
   "name": "python3"
  },
  "language_info": {
   "codemirror_mode": {
    "name": "ipython",
    "version": 3
   },
   "file_extension": ".py",
   "mimetype": "text/x-python",
   "name": "python",
   "nbconvert_exporter": "python",
   "pygments_lexer": "ipython3",
   "version": "3.9.13"
  },
  "orig_nbformat": 4,
  "vscode": {
   "interpreter": {
    "hash": "88279d2366fe020547cde40dd65aa0e3aa662a6ec1f3ca12d88834876c85e1a6"
   }
  }
 },
 "nbformat": 4,
 "nbformat_minor": 2
}
